{
 "cells": [
  {
   "cell_type": "code",
   "execution_count": 1,
   "id": "f900c736",
   "metadata": {},
   "outputs": [],
   "source": [
    "import pandas as pd\n",
    "import sys\n",
    "sys.path.append('./eval-algos/S7/models/')\n",
    "\n",
    "from onchain_builders import OnchainBuildersCalculator, SimulationConfig, load_config, load_data\n",
    "from utils.allocator import AllocationConfig, allocate_with_constraints"
   ]
  },
  {
   "cell_type": "code",
   "execution_count": 2,
   "id": "c48b3561-3a4e-4133-9291-ecdc6f49d37b",
   "metadata": {},
   "outputs": [],
   "source": [
    "## Onchain Builders"
   ]
  },
  {
   "cell_type": "code",
   "execution_count": 3,
   "id": "1a881278-5d95-40f7-97de-dcc225f8fb50",
   "metadata": {},
   "outputs": [],
   "source": [
    "ds, sim_cfg = load_config('eval-algos/S7/weights/onchain_builders_testing.yaml')\n",
    "df_data = load_data(ds)\n",
    "\n",
    "sim_cfg.metric_variants.update({'Adoption': 1.0, 'Growth': 0, 'Retention': 0})\n",
    "calculator = OnchainBuildersCalculator(sim_cfg)\n",
    "analysis = calculator.run_analysis(df_data)"
   ]
  },
  {
   "cell_type": "code",
   "execution_count": 4,
   "id": "2671f9c8-917a-4dc0-adec-a6368d178dc3",
   "metadata": {},
   "outputs": [],
   "source": [
    "results = analysis['aggregated_project_scores']\n",
    "scores = results['project_score'] / results['project_score'].sum()"
   ]
  },
  {
   "cell_type": "code",
   "execution_count": 5,
   "id": "6d369541-9d77-4104-90cf-9d7148ee63cb",
   "metadata": {},
   "outputs": [
    {
     "name": "stdout",
     "output_type": "stream",
     "text": [
      "\n",
      "=== Final Project Allocations ===\n",
      "project_id                                    project_name       display_name      \n",
      "XSDgPwFuQVcj57ARcKTGrm2w80KKlqJxaBWF6jZqe7w=  uniswap            Uniswap               29314.59\n",
      "2rDMrpL2LxAp8HdLsctM08faEhDFO6b_OJT0yXJhV9I=  aerodrome-finance  Aerodrome Finance     25457.23\n",
      "9fdHUXUwgPfemopW3xPuCoLOk5tw7-KQXFgv8HVYtUI=  virtual-protocol   Virtuals Protocol     25077.16\n",
      "NXrQCspmyubeAyhKPHl5gz8K7zkYOq7G3cSCPP5e31s=  layer3xyz          Layer3                15486.53\n",
      "I1ULrUY9t789vj4akEP3lLgB9hmC1Unfg7875NEdWL0=  lifinance          LI.FI                 15250.33\n",
      "PZA75rAKiN4P9poFNpkZYK-yrF1r3WgpEHmbvwPjbXk=  zora               Zora                  15235.93\n",
      "EhPGap_lKavTMqT2DUdCSDKsQaAiG99v0Rq__pINhMM=  1-inch             1Inch                 14690.95\n",
      "89Tit1JWeJvJFw5pp7BjqTlEOvLXRQIw7tgZUI1_pj4=  optimism           Optimism              13688.63\n",
      "w7zsvZGUnkAgUKialQdqZQdKNtHmkaHWxBbfKy8Id98=  reservoirprotocol  Reservoir Protocol    13299.09\n",
      "EBGuilPthpdMOlNWYPk9oqVOOlRLkK_goRnRRDjMRMg=  kyber-swap         KyberSwap             13198.08\n",
      "5VkD5cN8xZtehiLcOgtLJsWoekAgzc5g8M5L5XWcsis=  odos-xyz           Odos                  13143.97\n",
      "sbnlvN2OV8y140ijKiAr12nnhEkcKAYZyaxtOZOteqs=  across             Across                12684.39\n",
      "wluzMsctrN335VW_uT-iQsSWZrfLjSRCxOvVVUB8NgQ=  pancakeswap        PancakeSwap           12468.09\n",
      "LOZXloZfVxGx7h5Na3R-5RcR86-mMDDJuKiE4q_hJOY=  metamask           Metamask              12224.58\n",
      "UF36qYsUzfwX6GDNuWgpDXrqsmrLcK4Rw5D4hZY5Pxc=  layer-zero         LayerZero             12066.06\n",
      "tc4S0kCgnfdi0fBVgbtU6BMRDgSwxEl7-frPROIHbAA=  ionicprotocol      Ionic Protocol        11385.91\n",
      "HW-DsDcsApBwqtMlSu8S7BpNvtLdq5jvBrJD7kxz7pM=  safe-global        Safe                  11278.85\n",
      "0wtV0PWrVXQ1_PLY15gOU6Ir38vtTdOae5-08PtldSc=  moxie              Moxie                 10702.51\n",
      "H1DdvseIeFYJUwYwfSNvsXvbgxfwasspZw2MT3Apkfg=  velodrome          Velodrome              9968.57\n",
      "2NZjXsMnsZoT5N4kz3DczXmFPvrLi_j33Cm-GcLR1TM=  bitkeep            bitkeep                9520.81\n",
      "Name: project_score, dtype: float64\n",
      "\n",
      "=== Bottom 10 Projects with Rewards ===\n",
      "project_id                                    project_name                display_name          \n",
      "1e72O6k-8RzmFpXoNddUpJBTWUW5_utmXLEMblDjz-Y=  createmytoken               CreateMyToken              257.38\n",
      "Pt5b105H8vQp0P1CpSqzcdvaeKlX-6uPEdTwUlEZIy8=  swapline                    Swapline                   343.81\n",
      "9JVD2-FWIHvueSFzZYBmq7Qxhv_I_N9eqmurSVm5ifY=  moneymandoug-base-doge      BaseDoge                   744.77\n",
      "6Zcpq92o-JOeTHsuaanfXqOkVNJwC2OREgecMdCvSQI=  mochimons-mochimonsdev      Mochimons                  763.51\n",
      "uMsHqJ3GWFn50c4MEoY9qFy8taROWqDCVG2fQT56f1Q=  prop-house                  Rounds.wtf                 881.04\n",
      "gSNSfKjRbnqInKzb0X33PNfl2KcBb_geZNcaBrvysV0=  symm-io                     IntentX                    917.18\n",
      "1hLLflXAqMy1sbUCwkxBdBhreqET1R052tFu56FGRn8=  derivexyz                   Derive (formerly Lyra)     975.83\n",
      "agoPYWTvvTMmZI_tyYTXeemYfSWV3FpqiyA_9aknk4Q=  stuckinaboot-based-nfts-op  Based NFTs                 976.58\n",
      "m1cjPMe-kGT9iIZE8pCQ0eoa7gTq7qzGDH9WUP4IuYs=  aloe-ii                     Aloe II                   1021.26\n",
      "_rSUGbgCLjCC0SxFrS6u6299eSa8Vde7C1ftbaFzBuo=  giveth                      Giveth                    1047.83\n",
      "Name: project_score, dtype: float64\n",
      "\n",
      "Number of projects below minimum (200): 1\n",
      "\n",
      "Total Budget Allocated: 1,000,000 / 1,000,000\n"
     ]
    }
   ],
   "source": [
    "alloc = AllocationConfig(budget=1_000_000, min_amount_per_project=200, max_share_per_project=0.05)\n",
    "rewards = allocate_with_constraints(scores, alloc)"
   ]
  },
  {
   "cell_type": "code",
   "execution_count": 6,
   "id": "e9ed0762",
   "metadata": {},
   "outputs": [
    {
     "data": {
      "text/plain": [
       "<Axes: >"
      ]
     },
     "execution_count": 6,
     "metadata": {},
     "output_type": "execute_result"
    },
    {
     "data": {
      "image/png": "[encoded data removed]",
      "text/plain": [
       "<Figure size 640x480 with 1 Axes>"
      ]
     },
     "metadata": {},
     "output_type": "display_data"
    }
   ],
   "source": [
    "rewards.sort_values().plot(kind='bar', xticks=[], xlabel='', color='red', width=1)"
   ]
  },
  {
   "cell_type": "code",
   "execution_count": 7,
   "id": "872f93fd-68d0-4a6f-9269-d85f56b77987",
   "metadata": {},
   "outputs": [],
   "source": [
    "## Devtooling"
   ]
  },
  {
   "cell_type": "code",
   "execution_count": 8,
   "id": "70b7f46a-67d8-4ff4-ad86-05f610192460",
   "metadata": {},
   "outputs": [],
   "source": [
    "from devtooling_pagerank import DevtoolingCalculator, SimulationConfig, load_config, load_data"
   ]
  },
  {
   "cell_type": "code",
   "execution_count": 9,
   "id": "9b5f32b5-e3e5-4a7e-80c2-8799c5e1473b",
   "metadata": {},
   "outputs": [],
   "source": [
    "ds, sim_cfg = load_config('eval-algos/S7/weights/devtooling_pagerank.yaml')\n",
    "dfs = load_data(ds)\n",
    "\n",
    "calculator = DevtoolingCalculator(sim_cfg)\n",
    "analysis = calculator.run_analysis(*dfs)"
   ]
  },
  {
   "cell_type": "code",
   "execution_count": 10,
   "id": "02a05a34-7011-4aec-93d4-b332cb155d4c",
   "metadata": {},
   "outputs": [],
   "source": [
    "results = analysis['pagerank_scores']\n",
    "scores = results['pagerank_score'] / results['pagerank_score'].sum()"
   ]
  },
  {
   "cell_type": "code",
   "execution_count": 11,
   "id": "a12d5261-4539-4674-8215-c13f77f5cd67",
   "metadata": {},
   "outputs": [
    {
     "name": "stdout",
     "output_type": "stream",
     "text": [
      "\n",
      "=== Final Project Allocations ===\n",
      "0     50000.00\n",
      "7     50000.00\n",
      "44    50000.00\n",
      "36    50000.00\n",
      "30    50000.00\n",
      "39    50000.00\n",
      "8     50000.00\n",
      "1     50000.00\n",
      "6     50000.00\n",
      "2     50000.00\n",
      "5     50000.00\n",
      "13    37955.40\n",
      "12    27721.34\n",
      "18    25638.81\n",
      "23    22636.70\n",
      "10    21203.71\n",
      "3     19443.29\n",
      "17    16947.09\n",
      "9     16352.57\n",
      "14    15691.89\n",
      "Name: pagerank_score, dtype: float64\n",
      "\n",
      "=== Bottom 10 Projects with Rewards ===\n",
      "72    217.61\n",
      "71    254.91\n",
      "68    294.00\n",
      "67    317.29\n",
      "56    382.04\n",
      "79    386.44\n",
      "54    457.09\n",
      "77    632.78\n",
      "53    839.43\n",
      "37    965.37\n",
      "Name: pagerank_score, dtype: float64\n",
      "\n",
      "Number of projects below minimum (200): 1\n",
      "\n",
      "Total Budget Allocated: 1,000,000 / 1,000,000\n"
     ]
    }
   ],
   "source": [
    "alloc = AllocationConfig(budget=1_000_000, min_amount_per_project=200, max_share_per_project=0.05)\n",
    "rewards = allocate_with_constraints(scores, alloc)"
   ]
  },
  {
   "cell_type": "code",
   "execution_count": 12,
   "id": "ad1c3397-d01b-4b3c-9cb7-314ba4fae5a6",
   "metadata": {},
   "outputs": [
    {
     "data": {
      "text/plain": [
       "<Axes: >"
      ]
     },
     "execution_count": 12,
     "metadata": {},
     "output_type": "execute_result"
    },
    {
     "data": {
      "image/png": "[encoded data removed]",
      "text/plain": [
       "<Figure size 640x480 with 1 Axes>"
      ]
     },
     "metadata": {},
     "output_type": "display_data"
    }
   ],
   "source": [
    "rewards.sort_values().plot(kind='bar', xticks=[], color='red', width=1)"
   ]
  }
 ],
 "metadata": {
  "kernelspec": {
   "display_name": "Python 3 (ipykernel)",
   "language": "python",
   "name": "python3"
  },
  "language_info": {
   "codemirror_mode": {
    "name": "ipython",
    "version": 3
   },
   "file_extension": ".py",
   "mimetype": "text/x-python",
   "name": "python",
   "nbconvert_exporter": "python",
   "pygments_lexer": "ipython3",
   "version": "3.11.7"
  }
 },
 "nbformat": 4,
 "nbformat_minor": 5
}
