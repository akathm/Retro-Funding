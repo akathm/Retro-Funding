{
 "cells": [
  {
   "cell_type": "code",
   "execution_count": 1,
   "id": "f900c736",
   "metadata": {},
   "outputs": [],
   "source": [
    "import pandas as pd\n",
    "import sys\n",
    "import warnings\n",
    "warnings.filterwarnings(\"ignore\")\n",
    "\n",
    "sys.path.append('./eval-algos/S7/models/')\n",
    "\n",
    "from utils.allocator import AllocationConfig, allocate_with_constraints"
   ]
  },
  {
   "cell_type": "code",
   "execution_count": 2,
   "id": "c48b3561-3a4e-4133-9291-ecdc6f49d37b",
   "metadata": {},
   "outputs": [],
   "source": [
    "## Onchain Builders"
   ]
  },
  {
   "cell_type": "code",
   "execution_count": 3,
   "id": "1a881278-5d95-40f7-97de-dcc225f8fb50",
   "metadata": {},
   "outputs": [
    {
     "data": {
      "text/plain": [
       "project_id                                    project_name       display_name      \n",
       "XSDgPwFuQVcj57ARcKTGrm2w80KKlqJxaBWF6jZqe7w=  uniswap            Uniswap               0.151791\n",
       "2rDMrpL2LxAp8HdLsctM08faEhDFO6b_OJT0yXJhV9I=  aerodrome-finance  Aerodrome Finance     0.132189\n",
       "9fdHUXUwgPfemopW3xPuCoLOk5tw7-KQXFgv8HVYtUI=  virtual-protocol   Virtuals Protocol     0.100445\n",
       "PZA75rAKiN4P9poFNpkZYK-yrF1r3WgpEHmbvwPjbXk=  zora               Zora                  0.036450\n",
       "NXrQCspmyubeAyhKPHl5gz8K7zkYOq7G3cSCPP5e31s=  layer3xyz          Layer3                0.035381\n",
       "w7zsvZGUnkAgUKialQdqZQdKNtHmkaHWxBbfKy8Id98=  reservoirprotocol  Reservoir Protocol    0.034263\n",
       "I1ULrUY9t789vj4akEP3lLgB9hmC1Unfg7875NEdWL0=  lifinance          LI.FI                 0.026413\n",
       "HW-DsDcsApBwqtMlSu8S7BpNvtLdq5jvBrJD7kxz7pM=  safe-global        Safe                  0.022043\n",
       "LOZXloZfVxGx7h5Na3R-5RcR86-mMDDJuKiE4q_hJOY=  metamask           Metamask              0.021982\n",
       "o7Tegl37mRn3t51qS50mf-ENGA98ACIQV01Ae_NWWf0=  0xproject          0x                    0.018815\n",
       "sbnlvN2OV8y140ijKiAr12nnhEkcKAYZyaxtOZOteqs=  across             Across                0.018737\n",
       "EhPGap_lKavTMqT2DUdCSDKsQaAiG99v0Rq__pINhMM=  1-inch             1Inch                 0.017837\n",
       "89Tit1JWeJvJFw5pp7BjqTlEOvLXRQIw7tgZUI1_pj4=  optimism           Optimism              0.016701\n",
       "wluzMsctrN335VW_uT-iQsSWZrfLjSRCxOvVVUB8NgQ=  pancakeswap        PancakeSwap           0.016421\n",
       "EBGuilPthpdMOlNWYPk9oqVOOlRLkK_goRnRRDjMRMg=  kyber-swap         KyberSwap             0.015290\n",
       "Name: weighted_score, dtype: float64"
      ]
     },
     "execution_count": 3,
     "metadata": {},
     "output_type": "execute_result"
    }
   ],
   "source": [
    "from onchain_builders import OnchainBuildersCalculator, SimulationConfig, load_config, load_data\n",
    "\n",
    "ds, sim_cfg = load_config('eval-algos/S7/weights/onchain_builders_testing.yaml')\n",
    "df_data = load_data(ds)\n",
    "\n",
    "alloc = AllocationConfig(budget=1_000_000, min_amount_per_project=200, max_share_per_project=0.05)\n",
    "sim_cfg.metric_variants.update({'Adoption': 1.0, 'Growth': 0, 'Retention': 0})\n",
    "calculator = OnchainBuildersCalculator(sim_cfg)\n",
    "analysis = calculator.run_analysis(df_data)\n",
    "\n",
    "scores = analysis['final_results']['weighted_score']\n",
    "scores.head(15)"
   ]
  },
  {
   "cell_type": "code",
   "execution_count": 4,
   "id": "2671f9c8-917a-4dc0-adec-a6368d178dc3",
   "metadata": {},
   "outputs": [
    {
     "data": {
      "text/plain": [
       "<Axes: >"
      ]
     },
     "execution_count": 4,
     "metadata": {},
     "output_type": "execute_result"
    },
    {
     "data": {
      "image/png": "[encoded data removed]",
      "text/plain": [
       "<Figure size 1000x300 with 1 Axes>"
      ]
     },
     "metadata": {},
     "output_type": "display_data"
    }
   ],
   "source": [
    "rewards = allocate_with_constraints(scores, alloc, print_results=False)\n",
    "rewards.sort_values(ascending=False).plot(kind='bar', xticks=[], xlabel='', color='red', width=1, figsize=(10,3))"
   ]
  },
  {
   "cell_type": "code",
   "execution_count": 5,
   "id": "872f93fd-68d0-4a6f-9269-d85f56b77987",
   "metadata": {},
   "outputs": [],
   "source": [
    "## Devtooling"
   ]
  },
  {
   "cell_type": "code",
   "execution_count": 7,
   "id": "70b7f46a-67d8-4ff4-ad86-05f610192460",
   "metadata": {},
   "outputs": [
    {
     "name": "stderr",
     "output_type": "stream",
     "text": [
      "WARNING:root:i entry not found in localtrust, skipping this entry: {'i': '9JVD2-FWIHvueSFzZYBmq7Qxhv_I_N9eqmurSVm5ifY=', 'v': 9.35349574563121e-06}\n",
      "WARNING:root:i entry not found in localtrust, skipping this entry: {'i': 'UKXBUBmTIl4i5mgMC_x1fPb6A-x9wqM3RRO7DRyKaPU=', 'v': 9.735623509885944e-05}\n",
      "WARNING:root:i entry not found in localtrust, skipping this entry: {'i': '1e72O6k-8RzmFpXoNddUpJBTWUW5_utmXLEMblDjz-Y=', 'v': 2.2015844770987595e-06}\n",
      "WARNING:root:i entry not found in localtrust, skipping this entry: {'i': 'YuY5doF8Tfd1E4hLlzquRYZbFbIfZajfD-DTLIdBZyY=', 'v': 0.0028898940376229833}\n",
      "WARNING:root:i entry not found in localtrust, skipping this entry: {'i': '7cpiPuq5LM2Q20qEU2fbilq8WlD8J-ydyMZWbfQg16c=', 'v': 0.00012872902858428076}\n",
      "WARNING:root:i entry not found in localtrust, skipping this entry: {'i': '6Zcpq92o-JOeTHsuaanfXqOkVNJwC2OREgecMdCvSQI=', 'v': 3.985820699222224e-06}\n",
      "WARNING:root:i entry not found in localtrust, skipping this entry: {'i': 'Ql6AoYw7YWJhQ8XQElgT5ZvTPsH20mwcVIoUrZwn890=', 'v': 0.002396733781184996}\n",
      "WARNING:root:i entry not found in localtrust, skipping this entry: {'i': 'taGpr-Np1yokRVG0l6sX6bOhKaoVOy3wc3NsznIhmMo=', 'v': 0.00018194307772072187}\n",
      "WARNING:root:i entry not found in localtrust, skipping this entry: {'i': 'C_lhyk8tpX_S07cydIwQTeSQAolLe8wodV4ZDWhegrc=', 'v': 0.0010256204261184887}\n",
      "WARNING:root:i entry not found in localtrust, skipping this entry: {'i': 'jhbwVCWNelyiMntcZPWGmOgRl7buxEMIdgPhfvT0LPk=', 'v': 0.0021938427692685066}\n",
      "INFO:root:eigentrust compute took 0.901938792085275 secs \n"
     ]
    },
    {
     "data": {
      "text/plain": [
       "project_name  display_name \n",
       "ethers-io     ethers.js        0.166341\n",
       "zora          Zora             0.120330\n",
       "ethereumjs    EthereumJS       0.078127\n",
       "across        Across           0.075676\n",
       "defi-llama    DefiLlama        0.054684\n",
       "smoldapp      Smol Dapp        0.048494\n",
       "sushi         Sushi            0.045740\n",
       "wevm          wevm             0.039727\n",
       "synthetix     Synthetix        0.038861\n",
       "openzeppelin  OpenZeppelin     0.036933\n",
       "optimism      Optimism         0.033458\n",
       "foundry       Foundry          0.025626\n",
       "rainbow       Rainbow          0.021369\n",
       "pyth-network  Pyth Network     0.015439\n",
       "apeworx       Ape Framework    0.014647\n",
       "Name: v_aggregated, dtype: float64"
      ]
     },
     "execution_count": 7,
     "metadata": {},
     "output_type": "execute_result"
    }
   ],
   "source": [
    "from devtooling_openrank import DevtoolingCalculator, SimulationConfig, load_config, load_data\n",
    "\n",
    "ds, sim_cfg = load_config('eval-algos/S7/weights/devtooling_openrank_testing.yaml')\n",
    "data = load_data(ds)\n",
    "\n",
    "sim_cfg.time_decay.update(\n",
    "    {\n",
    "        'event_to_devtooling_repo': 0.5,\n",
    "        'commit_to_onchain_repo': 0.5\n",
    "    }\n",
    ")\n",
    "calculator = DevtoolingCalculator(sim_cfg)\n",
    "analysis = calculator.run_analysis(*data)\n",
    "\n",
    "scores = (\n",
    "    analysis['devtooling_project_results']\n",
    "    .set_index(['project_name','display_name'])\n",
    "    ['v_aggregated']\n",
    "    .sort_values(ascending=False)\n",
    ")\n",
    "scores = scores[scores>0]\n",
    "scores.head(15)"
   ]
  },
  {
   "cell_type": "code",
   "execution_count": 11,
   "id": "9b5f32b5-e3e5-4a7e-80c2-8799c5e1473b",
   "metadata": {},
   "outputs": [
    {
     "name": "stderr",
     "output_type": "stream",
     "text": [
      "WARNING:root:i entry not found in localtrust, skipping this entry: {'i': '9JVD2-FWIHvueSFzZYBmq7Qxhv_I_N9eqmurSVm5ifY=', 'v': 6.289683520114642e-06}\n",
      "WARNING:root:i entry not found in localtrust, skipping this entry: {'i': 'UKXBUBmTIl4i5mgMC_x1fPb6A-x9wqM3RRO7DRyKaPU=', 'v': 3.860564367518643e-05}\n",
      "WARNING:root:v cannot be less than or equal to 0, skipping this entry: {'i': '1e72O6k-8RzmFpXoNddUpJBTWUW5_utmXLEMblDjz-Y=', 'v': 0.0}\n",
      "WARNING:root:i entry not found in localtrust, skipping this entry: {'i': 'YuY5doF8Tfd1E4hLlzquRYZbFbIfZajfD-DTLIdBZyY=', 'v': 0.0024296432928893425}\n",
      "WARNING:root:i entry not found in localtrust, skipping this entry: {'i': '7cpiPuq5LM2Q20qEU2fbilq8WlD8J-ydyMZWbfQg16c=', 'v': 9.812267767443216e-05}\n",
      "WARNING:root:v cannot be less than or equal to 0, skipping this entry: {'i': '7UvoYLwQcGamsUW0EDD7aipxdaT5to2z-FJ1P6kh-4k=', 'v': 0.0}\n",
      "WARNING:root:i entry not found in localtrust, skipping this entry: {'i': '6Zcpq92o-JOeTHsuaanfXqOkVNJwC2OREgecMdCvSQI=', 'v': 1.0103255999264611e-05}\n",
      "WARNING:root:i entry not found in localtrust, skipping this entry: {'i': 'Ql6AoYw7YWJhQ8XQElgT5ZvTPsH20mwcVIoUrZwn890=', 'v': 0.001611532590193971}\n",
      "WARNING:root:i entry not found in localtrust, skipping this entry: {'i': 'taGpr-Np1yokRVG0l6sX6bOhKaoVOy3wc3NsznIhmMo=', 'v': 0.000128884290752694}\n",
      "WARNING:root:i entry not found in localtrust, skipping this entry: {'i': 'C_lhyk8tpX_S07cydIwQTeSQAolLe8wodV4ZDWhegrc=', 'v': 0.0005316409216786557}\n",
      "WARNING:root:i entry not found in localtrust, skipping this entry: {'i': 'jhbwVCWNelyiMntcZPWGmOgRl7buxEMIdgPhfvT0LPk=', 'v': 0.0026070376714810817}\n",
      "INFO:root:eigentrust compute took 0.9050060000736266 secs \n"
     ]
    },
    {
     "data": {
      "text/plain": [
       "project_name  display_name \n",
       "ethers-io     ethers.js        0.179357\n",
       "zora          Zora             0.144038\n",
       "ethereumjs    EthereumJS       0.094684\n",
       "across        Across           0.081542\n",
       "openzeppelin  OpenZeppelin     0.046946\n",
       "smoldapp      Smol Dapp        0.043806\n",
       "defi-llama    DefiLlama        0.041213\n",
       "optimism      Optimism         0.038934\n",
       "wevm          wevm             0.038339\n",
       "foundry       Foundry          0.030294\n",
       "rainbow       Rainbow          0.023582\n",
       "pyth-network  Pyth Network     0.018807\n",
       "apeworx       Ape Framework    0.016998\n",
       "sushi         Sushi            0.016654\n",
       "synthetix     Synthetix        0.014408\n",
       "Name: v_aggregated, dtype: float64"
      ]
     },
     "execution_count": 11,
     "metadata": {},
     "output_type": "execute_result"
    }
   ],
   "source": [
    "from devtooling_openrank import DevtoolingCalculator, SimulationConfig, load_config, load_data\n",
    "\n",
    "ds, sim_cfg = load_config('eval-algos/S7/weights/devtooling_openrank_testing.yaml')\n",
    "data = load_data(ds)\n",
    "\n",
    "sim_cfg.time_decay.update({'event_to_devtooling_repo': 0.25, 'commit_to_onchain_repo': 0.25})\n",
    "sim_cfg.onchain_project_pretrust_weights.update({\n",
    "    'transaction_count_all_levels': 0.0,\n",
    "    'transaction_count_txn_level_only': 1.0,\n",
    "    'gas_fees_all_levels': 0.0,\n",
    "    'gas_fees_txn_level_only': 0.0,\n",
    "    'user_count': 0.0,\n",
    "    'bot_filtered_user_count': 0.0\n",
    "})\n",
    "\n",
    "calculator = DevtoolingCalculator(sim_cfg)\n",
    "analysis = calculator.run_analysis(*data)\n",
    "\n",
    "scores = (\n",
    "    analysis['devtooling_project_results']\n",
    "    .set_index(['project_name','display_name'])\n",
    "    ['v_aggregated']\n",
    "    .sort_values(ascending=False)\n",
    ")\n",
    "scores = scores[scores>0]\n",
    "scores.head(15)"
   ]
  },
  {
   "cell_type": "code",
   "execution_count": 8,
   "id": "d26a7593",
   "metadata": {},
   "outputs": [
    {
     "data": {
      "text/plain": [
       "<Axes: >"
      ]
     },
     "execution_count": 8,
     "metadata": {},
     "output_type": "execute_result"
    },
    {
     "data": {
      "image/png": "[encoded data removed]",
      "text/plain": [
       "<Figure size 1000x300 with 1 Axes>"
      ]
     },
     "metadata": {},
     "output_type": "display_data"
    }
   ],
   "source": [
    "rewards = allocate_with_constraints(scores, alloc, print_results=False)\n",
    "rewards.sort_values(ascending=False).plot(kind='bar', xticks=[], xlabel='', color='red', width=1, figsize=(10,3))"
   ]
  },
  {
   "cell_type": "code",
   "execution_count": 9,
   "id": "9c3ffb59",
   "metadata": {},
   "outputs": [
    {
     "data": {
      "text/plain": [
       "project_name  display_name \n",
       "ethers-io     ethers.js        50000.00\n",
       "zora          Zora             50000.00\n",
       "ethereumjs    EthereumJS       50000.00\n",
       "across        Across           50000.00\n",
       "defi-llama    DefiLlama        50000.00\n",
       "smoldapp      Smol Dapp        50000.00\n",
       "sushi         Sushi            50000.00\n",
       "wevm          wevm             50000.00\n",
       "synthetix     Synthetix        50000.00\n",
       "openzeppelin  OpenZeppelin     50000.00\n",
       "optimism      Optimism         50000.00\n",
       "foundry       Foundry          44118.43\n",
       "rainbow       Rainbow          36789.03\n",
       "pyth-network  Pyth Network     26579.54\n",
       "apeworx       Ape Framework    25215.46\n",
       "Name: v_aggregated, dtype: float64"
      ]
     },
     "execution_count": 9,
     "metadata": {},
     "output_type": "execute_result"
    }
   ],
   "source": [
    "rewards.head(15)"
   ]
  },
  {
   "cell_type": "code",
   "execution_count": 12,
   "id": "3bc3a077",
   "metadata": {},
   "outputs": [],
   "source": [
    "import openrank_sdk"
   ]
  },
  {
   "cell_type": "code",
   "execution_count": 13,
   "id": "f90aa93f",
   "metadata": {},
   "outputs": [
    {
     "data": {
      "text/plain": [
       "<openrank_sdk.eigentrust_client.EigenTrust at 0x143d180d0>"
      ]
     },
     "execution_count": 13,
     "metadata": {},
     "output_type": "execute_result"
    }
   ],
   "source": [
    "et = openrank_sdk.EigenTrust()\n",
    "et"
   ]
  },
  {
   "cell_type": "code",
   "execution_count": 14,
   "id": "5a1b14a9",
   "metadata": {},
   "outputs": [
    {
     "data": {
      "text/plain": [
       "0.5"
      ]
     },
     "execution_count": 14,
     "metadata": {},
     "output_type": "execute_result"
    }
   ],
   "source": [
    "et.alpha"
   ]
  },
  {
   "cell_type": "code",
   "execution_count": 16,
   "id": "741ff4ad",
   "metadata": {},
   "outputs": [
    {
     "data": {
      "text/plain": [
       "1.0"
      ]
     },
     "execution_count": 16,
     "metadata": {},
     "output_type": "execute_result"
    }
   ],
   "source": [
    "analysis['onchain_projects_pretrust_scores']['v'].sum()"
   ]
  },
  {
   "cell_type": "code",
   "execution_count": null,
   "id": "1c42bffe",
   "metadata": {},
   "outputs": [],
   "source": []
  }
 ],
 "metadata": {
  "kernelspec": {
   "display_name": "Python 3 (ipykernel)",
   "language": "python",
   "name": "python3"
  },
  "language_info": {
   "codemirror_mode": {
    "name": "ipython",
    "version": 3
   },
   "file_extension": ".py",
   "mimetype": "text/x-python",
   "name": "python",
   "nbconvert_exporter": "python",
   "pygments_lexer": "ipython3",
   "version": "3.11.5"
  }
 },
 "nbformat": 4,
 "nbformat_minor": 5
}
