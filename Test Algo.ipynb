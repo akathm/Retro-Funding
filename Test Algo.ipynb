{
 "cells": [
  {
   "cell_type": "code",
   "execution_count": 1,
   "id": "f900c736",
   "metadata": {},
   "outputs": [],
   "source": [
    "import pandas as pd\n",
    "import sys\n",
    "sys.path.append('./eval-algos/S7/scripts')\n",
    "\n",
    "from onchain_builders import DataLoader, ScoreCalculator, load_configs\n",
    "from allocator import allocate_with_constraints\n",
    "from constants import DEFAULT_CONFIG"
   ]
  },
  {
   "cell_type": "code",
   "execution_count": 2,
   "id": "e9ed0762",
   "metadata": {},
   "outputs": [],
   "source": [
    "sim_config, alloc_config = load_configs(DEFAULT_CONFIG)\n",
    "sim_config.__dict__.update({\n",
    "    'metric_variants': {\n",
    "        \"Adoption\": 0.5,\n",
    "        \"Growth\": 0.3,\n",
    "        \"Retention\": 0.2\n",
    "    }\n",
    "})\n",
    "alloc_config.budget = 1_000_000\n",
    "data_loader = DataLoader(sim_config)\n",
    "score_calculator = ScoreCalculator(sim_config)"
   ]
  },
  {
   "cell_type": "code",
   "execution_count": 3,
   "id": "74e40c13",
   "metadata": {},
   "outputs": [
    {
     "name": "stdout",
     "output_type": "stream",
     "text": [
      "\n",
      "=== Final Project Allocations ===\n",
      "project_name\n",
      "zora                 50000.000000\n",
      "layer3xyz            50000.000000\n",
      "1-inch               50000.000000\n",
      "velodrome            50000.000000\n",
      "uniswap              50000.000000\n",
      "aerodrome-finance    50000.000000\n",
      "safe-global          50000.000000\n",
      "reservoirprotocol    50000.000000\n",
      "pancakeswap          50000.000000\n",
      "lifinance            50000.000000\n",
      "moxie                45412.908264\n",
      "across               39851.835838\n",
      "kyber-swap           38485.904858\n",
      "opensea              33729.880985\n",
      "pyth-network         28460.040613\n",
      "aave                 26763.140073\n",
      "brahma               24369.238972\n",
      "balancer             23764.595312\n",
      "metamask             23195.616078\n",
      "curve                21994.819070\n",
      "Name: score, dtype: float64\n",
      "\n",
      "=== Bottom 10 Projects with Rewards ===\n",
      "project_name\n",
      "phi-labs-inc                    241.813309\n",
      "gammaswap                       354.928571\n",
      "galxe                           359.162849\n",
      "yearn                           443.664311\n",
      "d-hedge                         511.242707\n",
      "superfluid                      517.937815\n",
      "exactly                         578.560687\n",
      "arcadia-finance                 622.730246\n",
      "metronome-autonomoussoftware    624.396105\n",
      "granary                         730.215651\n",
      "Name: score, dtype: float64\n",
      "\n",
      "Number of projects below minimum (200): 22\n",
      "\n",
      "Total Budget Allocated: 1,000,000.00 / 1,000,000.00\n"
     ]
    }
   ],
   "source": [
    "raw_data = data_loader.load_data()\n",
    "filtered_data = data_loader.filter_data(raw_data)\n",
    "normalized_scores = score_calculator.compute_project_scores(filtered_data)\n",
    "final_allocations = allocate_with_constraints(normalized_scores, alloc_config)"
   ]
  }
 ],
 "metadata": {
  "kernelspec": {
   "display_name": "Python 3 (ipykernel)",
   "language": "python",
   "name": "python3"
  },
  "language_info": {
   "codemirror_mode": {
    "name": "ipython",
    "version": 3
   },
   "file_extension": ".py",
   "mimetype": "text/x-python",
   "name": "python",
   "nbconvert_exporter": "python",
   "pygments_lexer": "ipython3",
   "version": "3.11.5"
  }
 },
 "nbformat": 4,
 "nbformat_minor": 5
}
