{
 "cells": [
  {
   "cell_type": "code",
   "execution_count": 1,
   "id": "f900c736",
   "metadata": {},
   "outputs": [],
   "source": [
    "import pandas as pd\n",
    "import sys\n",
    "import warnings\n",
    "warnings.filterwarnings(\"ignore\")\n",
    "\n",
    "sys.path.append('./eval-algos/S7/models/')\n",
    "\n",
    "from utils.allocator import AllocationConfig, allocate_with_constraints"
   ]
  },
  {
   "cell_type": "code",
   "execution_count": 2,
   "id": "c48b3561-3a4e-4133-9291-ecdc6f49d37b",
   "metadata": {},
   "outputs": [],
   "source": [
    "## Onchain Builders"
   ]
  },
  {
   "cell_type": "code",
   "execution_count": 3,
   "id": "1a881278-5d95-40f7-97de-dcc225f8fb50",
   "metadata": {},
   "outputs": [],
   "source": [
    "from onchain_builders import OnchainBuildersCalculator, SimulationConfig, load_config, load_data\n",
    "\n",
    "ds, sim_cfg = load_config('eval-algos/S7/weights/onchain_builders_testing.yaml')\n",
    "df_data = load_data(ds)"
   ]
  },
  {
   "cell_type": "code",
   "execution_count": 4,
   "id": "2671f9c8-917a-4dc0-adec-a6368d178dc3",
   "metadata": {},
   "outputs": [
    {
     "name": "stdout",
     "output_type": "stream",
     "text": [
      "display_name\n",
      "Aerodrome Finance    0.234915\n",
      "Aave                 0.160078\n",
      "Virtuals Protocol    0.051399\n",
      "Moonwell             0.050382\n",
      "Zora                 0.043898\n",
      "Layer3               0.041570\n",
      "Synthetix            0.039551\n",
      "Compound             0.033168\n",
      "Beefy Finance        0.031760\n",
      "LI.FI                0.029959\n",
      "Velodrome            0.028103\n",
      "Across               0.022449\n",
      "Balancer             0.015704\n",
      "LayerZero            0.014099\n",
      "Sushi                0.013661\n",
      "Name: weighted_score, dtype: float64\n"
     ]
    },
    {
     "data": {
      "text/plain": [
       "<Axes: >"
      ]
     },
     "execution_count": 4,
     "metadata": {},
     "output_type": "execute_result"
    },
    {
     "data": {
      "image/png": "[encoded data removed]",
      "text/plain": [
       "<Figure size 1000x300 with 1 Axes>"
      ]
     },
     "metadata": {},
     "output_type": "display_data"
    }
   ],
   "source": [
    "alloc = AllocationConfig(budget=1_000_000, min_amount_per_project=200, max_share_per_project=0.05)\n",
    "sim_cfg.metric_variants.update({'Adoption': 1.0, 'Growth': 0, 'Retention': 0})\n",
    "calculator = OnchainBuildersCalculator(sim_cfg)\n",
    "analysis = calculator.run_analysis(df_data)\n",
    "\n",
    "scores = analysis['final_results']['weighted_score'].reset_index().set_index('display_name')['weighted_score']\n",
    "print(scores.head(15))\n",
    "\n",
    "rewards = allocate_with_constraints(scores, alloc, print_results=False)\n",
    "rewards.sort_values(ascending=False).plot(kind='bar', xticks=[], xlabel='', color='red', width=1, figsize=(10,3))"
   ]
  },
  {
   "cell_type": "code",
   "execution_count": 5,
   "id": "0cabb525",
   "metadata": {},
   "outputs": [
    {
     "name": "stdout",
     "output_type": "stream",
     "text": [
      "display_name\n",
      "Zora                 0.103171\n",
      "Layer3               0.097729\n",
      "Aerodrome Finance    0.073061\n",
      "LI.FI                0.070414\n",
      "Across               0.052730\n",
      "Virtuals Protocol    0.041366\n",
      "Aave                 0.038989\n",
      "LayerZero            0.032016\n",
      "Sushi                0.030062\n",
      "BaseSwap             0.030020\n",
      "Hyperlane            0.025432\n",
      "Odos                 0.024924\n",
      "Paragraph            0.019565\n",
      "OpenOcean            0.018992\n",
      "Pyth Network         0.016663\n",
      "Name: weighted_score, dtype: float64\n"
     ]
    },
    {
     "data": {
      "text/plain": [
       "<Axes: >"
      ]
     },
     "execution_count": 5,
     "metadata": {},
     "output_type": "execute_result"
    },
    {
     "data": {
      "image/png": "[encoded data removed]",
      "text/plain": [
       "<Figure size 1000x300 with 1 Axes>"
      ]
     },
     "metadata": {},
     "output_type": "display_data"
    }
   ],
   "source": [
    "alloc = AllocationConfig(budget=1_000_000, min_amount_per_project=200, max_share_per_project=0.05)\n",
    "sim_cfg.metric_variants.update({'Adoption': 0.0, 'Growth': 0, 'Retention': 1.0})\n",
    "sim_cfg.metrics.update({'monthly_active_farcaster_users': 1.0})\n",
    "\n",
    "calculator = OnchainBuildersCalculator(sim_cfg)\n",
    "analysis = calculator.run_analysis(df_data)\n",
    "\n",
    "scores = analysis['final_results']['weighted_score'].reset_index().set_index('display_name')['weighted_score']\n",
    "print(scores.head(15))\n",
    "\n",
    "rewards = allocate_with_constraints(scores, alloc, print_results=False)\n",
    "rewards.sort_values(ascending=False).plot(kind='bar', xticks=[], xlabel='', color='red', width=1, figsize=(10,3))"
   ]
  },
  {
   "cell_type": "code",
   "execution_count": 6,
   "id": "872f93fd-68d0-4a6f-9269-d85f56b77987",
   "metadata": {},
   "outputs": [],
   "source": [
    "## Devtooling"
   ]
  },
  {
   "cell_type": "code",
   "execution_count": 7,
   "id": "70b7f46a-67d8-4ff4-ad86-05f610192460",
   "metadata": {},
   "outputs": [
    {
     "name": "stderr",
     "output_type": "stream",
     "text": [
      "WARNING:root:i entry not found in localtrust, skipping this entry: {'i': '7cpiPuq5LM2Q20qEU2fbilq8WlD8J-ydyMZWbfQg16c=', 'v': 0.004554661834461567}\n",
      "WARNING:root:i entry not found in localtrust, skipping this entry: {'i': 'C85B5qNR7_7MlpzR5kFKOsFMkfjZt9OKG0yorX7QSoo=', 'v': 0.0008995359568882726}\n",
      "WARNING:root:i entry not found in localtrust, skipping this entry: {'i': 'w3cYd84PoRdRJ0aJSg_A5Fn_WPpCROPaeq403DjEOAg=', 'v': 0.003510455464098368}\n",
      "WARNING:root:i entry not found in localtrust, skipping this entry: {'i': 'i9UqAEthNjifwSnlWVyS6o_8SurAxDX9GqDJoq2eL6Q=', 'v': 0.0011788304739414422}\n",
      "WARNING:root:i entry not found in localtrust, skipping this entry: {'i': 'xrkfD1_zY9lprjHS3_dIb12jhNuzMkJwLQnVlk-7_2k=', 'v': 0.0016675493727128878}\n",
      "WARNING:root:i entry not found in localtrust, skipping this entry: {'i': 'bf4_9pUIVVGNpvIF-IEApa-T7uh_vNkiX8WPQayhQfk=', 'v': 0.001503967450952762}\n",
      "WARNING:root:i entry not found in localtrust, skipping this entry: {'i': '\\t-GaxcdxeEp_4kF03wAjs-aHrRoiGwl0BrK0cYYEU0o0=', 'v': 0.00017870287854656556}\n",
      "WARNING:root:i entry not found in localtrust, skipping this entry: {'i': 'aSQZSOnnPVyM3Nz5jIRVwy4zOC63Zn298D7UejVcpEE=', 'v': 0.0006406431183603649}\n",
      "WARNING:root:i entry not found in localtrust, skipping this entry: {'i': 'LwP3a-36HgIcTCZ4AqNtcclM4BySp6i_jE4iW6GYUu0=', 'v': 0.0005473416579722569}\n",
      "WARNING:root:i entry not found in localtrust, skipping this entry: {'i': '_QKujhOZv72q1MJpH2unWr3Ym_VDqxRIha3nj8-t2PQ=', 'v': 0.00019311067351533741}\n",
      "WARNING:root:i entry not found in localtrust, skipping this entry: {'i': 'yHPqPsp9t55nVyBFpcdl1yEV1W4HgxbQDMrYQiyKWvU=', 'v': 0.0019990955675772658}\n",
      "WARNING:root:i entry not found in localtrust, skipping this entry: {'i': '\\t-v43rvSmrL4AxRNUURuFlkQs494g2kRLE1gXc18zq-o=', 'v': 0.0008421818116505128}\n",
      "WARNING:root:i entry not found in localtrust, skipping this entry: {'i': '2NKjGuL6cszDE5SD4gqMhJH5BSYe5EfFvMrIvU2qIIE=', 'v': 0.0012905709099083956}\n",
      "WARNING:root:i entry not found in localtrust, skipping this entry: {'i': '1CA0kthDz-yRQJJCwCFJ84KN7Ns04hG9C7fZCkErrpY=', 'v': 0.0011935666993389156}\n",
      "WARNING:root:i entry not found in localtrust, skipping this entry: {'i': 'Boo1K7eKeWjHX4IWrLewfTvR9oYjpB_9XRrGuQZYofo=', 'v': 0.0005649242255772403}\n",
      "WARNING:root:i entry not found in localtrust, skipping this entry: {'i': 'LhMaaTURtyoLq0tzxz-WB3qsYbg84X4afz2poEh2I6Q=', 'v': 0.002655126284553202}\n",
      "WARNING:root:i entry not found in localtrust, skipping this entry: {'i': 'xNZ_0Hav8NDwcZuiB8VSNBAXLppw0Po5HGMxGiSE85U=', 'v': 0.0011585623384583207}\n",
      "WARNING:root:i entry not found in localtrust, skipping this entry: {'i': 'YVD9NruuwKCsQX_FPmSMN8A6m2F53PxYxW14W1eVFLU=', 'v': 0.0018428151617450028}\n",
      "WARNING:root:i entry not found in localtrust, skipping this entry: {'i': 'BQRF45_tiQesgFTc6njSretMHd7qFLw-cSi5sO6q_iM=', 'v': 0.0006550509133291366}\n",
      "WARNING:root:i entry not found in localtrust, skipping this entry: {'i': 'MQtzlWHIiNAkqZiaR9oXjuKzWecPC06uMLJTnLGBbeA=', 'v': 0.00017870287854656556}\n",
      "WARNING:root:i entry not found in localtrust, skipping this entry: {'i': 'ey3dNZV4ffsEXs7nBvQz2d1ym07xmXFSWGr8MPpqpv8=', 'v': 0.0008011565813651896}\n",
      "WARNING:root:i entry not found in localtrust, skipping this entry: {'i': 'g-MLBj6rb_MJDiGJh6wwxZeoKgq8Vqk52HVpSwo2m0g=', 'v': 0.0009844977338975794}\n",
      "WARNING:root:i entry not found in localtrust, skipping this entry: {'i': 'GQTIfMPLufRC72ffLKmDmM9xbTuhsVtIQETr75xahnA=', 'v': 0.00028323736126723367}\n",
      "WARNING:root:i entry not found in localtrust, skipping this entry: {'i': '6V2NVx02hvQx5ZhjxqiT5NDP091iTaXk8scVlX9Z6v4=', 'v': 0.0007210084103453306}\n",
      "WARNING:root:i entry not found in localtrust, skipping this entry: {'i': '60fHRPaIQPPWZ8pqPdTVRzN9QVqdlPbOr0KQWXwKSUg=', 'v': 0.0013726798072616197}\n",
      "WARNING:root:i entry not found in localtrust, skipping this entry: {'i': 'aha8KDMOrYflQPgHPIY_Ol9TqcbhOGLeJcoMoeEcg88=', 'v': 0.0013929056890449713}\n",
      "WARNING:root:i entry not found in localtrust, skipping this entry: {'i': '_ediDAcHDonLtPRDINdsdTrM_0vSdhaABDDaMHnyC9A=', 'v': 0.0038628171316161804}\n",
      "WARNING:root:i entry not found in localtrust, skipping this entry: {'i': '4XwoNApe6FRgn1PdGgq5c3E-iiE8bMTOTfF5_nk8yfw=', 'v': 0.0010810144262195752}\n",
      "WARNING:root:i entry not found in localtrust, skipping this entry: {'i': '27Zlymcm-FHfDtmsm20lYxlIybeMeOXs5rl6rI52Qp8=', 'v': 0.0007210084103453306}\n",
      "WARNING:root:i entry not found in localtrust, skipping this entry: {'i': 'Fkm6jVtExDnveW5EGnKI-DzzElcM_x9zOBIsVoDge78=', 'v': 0.0006080459078498521}\n",
      "WARNING:root:i entry not found in localtrust, skipping this entry: {'i': '5pLNJsUcJ_g-K1QGFh75KM4LDrAJ1aBO14t28pwYZ8Q=', 'v': 0.000743627104123806}\n",
      "WARNING:root:i entry not found in localtrust, skipping this entry: {'i': 'V10-yJgCqvPtRcxLplK5KZfrOGGqR-A_BS_oD8MPIag=', 'v': 0.0027047523543604225}\n",
      "WARNING:root:i entry not found in localtrust, skipping this entry: {'i': 'PcJS3JeH6w0pEDOS13QMk7t1znP-iUf_WqGxhbbW8Jg=', 'v': 0.0005893105372780496}\n",
      "WARNING:root:i entry not found in localtrust, skipping this entry: {'i': 'kjs9V9jyBz4FwmEudED_lfN9swMKUAfec7sy257AkCY=', 'v': 0.002199142039394567}\n",
      "WARNING:root:i entry not found in localtrust, skipping this entry: {'i': 'fZTdgHXMLrGR2VSk9y2EBQaoEdpXrNgNxYiF4lzcgqQ=', 'v': 0.0011029864429428714}\n",
      "WARNING:root:i entry not found in localtrust, skipping this entry: {'i': 'Yi2f44eu1lJHOqgtb_ER65hqN6O2frrpK2dtaXGi9Vo=', 'v': 0.0016700322269671242}\n",
      "WARNING:root:i entry not found in localtrust, skipping this entry: {'i': 'EMZ0Oshl_8gwlIC9MX2pUAAXqaR5ju8W8vmgL7PewFs=', 'v': 0.0005664747225344673}\n",
      "WARNING:root:i entry not found in localtrust, skipping this entry: {'i': 'gE73OFYBgTpurUs8yE1YgXqxjdmfzwzUlM2NSxYRicw=', 'v': 0.00293689054115044}\n",
      "WARNING:root:i entry not found in localtrust, skipping this entry: {'i': 'LI1kivkch-DSD_eBLWvgi4YzGm3XU7qb0rjXfygssaU=', 'v': 0.00261915093310355}\n",
      "WARNING:root:i entry not found in localtrust, skipping this entry: {'i': 'TqATc_2OlDglkdNwAnD4xoabJfo1NQILVfOnOLIxlhY=', 'v': 0.0010229811421843668}\n",
      "WARNING:root:i entry not found in localtrust, skipping this entry: {'i': 'J4jAxNtrlLmSJo8_OkjW6_-i2T9EdzmB1uvXwUDTDM4=', 'v': 0.0013584767560694839}\n",
      "WARNING:root:i entry not found in localtrust, skipping this entry: {'i': 'xRKH3DnDNWP4cVfWmgiJVaAD1iu6p3lbzu7nd22coH8=', 'v': 0.001101032861216937}\n",
      "WARNING:root:i entry not found in localtrust, skipping this entry: {'i': 'H-qfvTi43myoOATSGB4tzYpZlyruj0fQM0fHw6lbR9Y=', 'v': 0.003004338124212472}\n",
      "WARNING:root:i entry not found in localtrust, skipping this entry: {'i': 'dZrL6LCQxbD9Q0AYBBkiXoXCCkUwP-HFpk8kzNf4HMY=', 'v': 0.0037995502287105276}\n",
      "WARNING:root:i entry not found in localtrust, skipping this entry: {'i': 'gsWDasOsp4mKs_zdPhjxoWozZtTgMIIURqeN-bbgWCU=', 'v': 0.0004763480347825711}\n",
      "WARNING:root:i entry not found in localtrust, skipping this entry: {'i': 'tR8yL0KfQz9DFF7Avnaq_o5XIAMUBLks5nPHrL3LpJE=', 'v': 0.00019311067351533741}\n",
      "WARNING:root:i entry not found in localtrust, skipping this entry: {'i': '7G1BqDhcgOt5B9WfET8aQu9so0H7Z7d2kIya4cifRJ4=', 'v': 0.0037349801744846573}\n",
      "WARNING:root:i entry not found in localtrust, skipping this entry: {'i': 'Bo9fOnhx_jCLJNx3ajx31RKqtNysKSCsWB19u88lKxI=', 'v': 0.0010651900505203394}\n",
      "WARNING:root:i entry not found in localtrust, skipping this entry: {'i': 'jbabN0wj9-x_ronGyV1CFKKAUOxznopRFqgjJSlpMp4=', 'v': 0.00028323736126723367}\n",
      "WARNING:root:i entry not found in localtrust, skipping this entry: {'i': 'OgGulYNKiFwcOb-ydsc9sIp_8Lnw8mx6XTZx6N3jv2s=', 'v': 0.0004149352343345147}\n",
      "WARNING:root:i entry not found in localtrust, skipping this entry: {'i': 'UlGC3DmBYncL0mol-swnPNMUlFhBItNJW9qZchOEVEA=', 'v': 0.0008011565813651896}\n",
      "WARNING:root:i entry not found in localtrust, skipping this entry: {'i': 'jiQsymJw85ShmLKsNj0atY7n-g0dPEZV0RXkyBLn1Ak=', 'v': 0.00017870287854656556}\n",
      "WARNING:root:i entry not found in localtrust, skipping this entry: {'i': 'CHy1KZOLAqhXO99_db3D9MHcmvVfzROzLn_3Oar-A_M=', 'v': 0.0019806445922266095}\n",
      "WARNING:root:i entry not found in localtrust, skipping this entry: {'i': '9QJQIRLW62Oitf4bcSx_JWv5qMh8qMUbjbjxeE45gsg=', 'v': 0.0003574057570931311}\n",
      "WARNING:root:i entry not found in localtrust, skipping this entry: {'i': 'v3BJZ6spw3FSvATx-O3wV_SiQ2fzJ-n7e_Qe3A70bj8=', 'v': 0.002360690072737925}\n"
     ]
    },
    {
     "name": "stderr",
     "output_type": "stream",
     "text": [
      "WARNING:root:i entry not found in localtrust, skipping this entry: {'i': 'e4dpOmE7XlAzurITqMykJQatHc3m9k4ADaoZWXvNBlw=', 'v': 0.00017870287854656556}\n",
      "WARNING:root:i entry not found in localtrust, skipping this entry: {'i': 'Dfpl4WeGMQuFISsbDqmuxLzDKhPxtGwmH92UQBIKeKM=', 'v': 0.00017870287854656556}\n",
      "WARNING:root:i entry not found in localtrust, skipping this entry: {'i': '4GVjGVUyeGXnVz0pQOXp0MbWbqHsiT042CgwMjZ1mhM=', 'v': 0.0018249259681567466}\n",
      "WARNING:root:i entry not found in localtrust, skipping this entry: {'i': 'e-ayCPBtcccQ9M8_BPh1K_2ZCh7ghmTIHrhPHVgxC8I=', 'v': 0.0023082925828494232}\n",
      "WARNING:root:i entry not found in localtrust, skipping this entry: {'i': 'wDzff3ru8ggxbnm_LrhkTQnC9QFjbsDlLshfbNapd4I=', 'v': 0.000371813552061903}\n",
      "WARNING:root:i entry not found in localtrust, skipping this entry: {'i': 'FdCd2urr-h9ej31OQ7lEzyjwrqvNiKkzbbGbfV8snfo=', 'v': 0.0008113210619008272}\n",
      "WARNING:root:i entry not found in localtrust, skipping this entry: {'i': 'oGnYGb6gXugG220UqRok62Rnl9GAVfH3jdMAqxSIQCs=', 'v': 0.0005505164306084685}\n",
      "WARNING:root:i entry not found in localtrust, skipping this entry: {'i': 'daCd20Rntav9VZHDqjneOBp8rf0cIFQre25GtacClYU=', 'v': 0.0005893105372780496}\n",
      "WARNING:root:i entry not found in localtrust, skipping this entry: {'i': 'rmiRbdNpRz9i9MmCjrUJAhGvNZ2ohGXnJuC8CZGL_00=', 'v': 0.001956766509174083}\n",
      "WARNING:root:i entry not found in localtrust, skipping this entry: {'i': 'N8U_dh5tcF8FRPC6yiozgCYXHNPbqpIzTDrexjRlPQI=', 'v': 0.00019311067351533741}\n",
      "WARNING:root:i entry not found in localtrust, skipping this entry: {'i': 'LdyI13Fibm2hH8IpJ00aP1m73D5F3lUlUiilotvzBwU=', 'v': 0.0014290441043477132}\n",
      "WARNING:root:i entry not found in localtrust, skipping this entry: {'i': 'H91_4SLQS_DPQhv2cqoJet7H0FGE6WIe02tEvuo4IyI=', 'v': 0.0009522275480248608}\n",
      "WARNING:root:i entry not found in localtrust, skipping this entry: {'i': 'IofSAq9drqeaKp67zIFUYM-kFNuMt50ldke4Etk-39o=', 'v': 0.00019311067351533741}\n",
      "WARNING:root:i entry not found in localtrust, skipping this entry: {'i': 'TYu0gRznyfzGJ4NlVrawunHG5WmmFvQNb4ty723lcPY=', 'v': 0.000371813552061903}\n",
      "WARNING:root:i entry not found in localtrust, skipping this entry: {'i': 'Nu4Rt-D8SMUQY6DJfMcj9ptB5-SNOUXvSsq-FIJHXQA=', 'v': 0.001753852650930332}\n",
      "WARNING:root:i entry not found in localtrust, skipping this entry: {'i': 'piV92wp9QVyuSuY1sRHQMvQBzuA8-Glr1MwKKefG_gQ=', 'v': 0.000371813552061903}\n",
      "WARNING:root:i entry not found in localtrust, skipping this entry: {'i': '6WhQ-bK6sIb2o8YeVK_Evqb_f-xDSJzVfwpaRRVX4mk=', 'v': 0.0013760593236744674}\n",
      "WARNING:root:i entry not found in localtrust, skipping this entry: {'i': 'vneHF1OqkF_d8uSRMOVNWwiP-cKz4W8TwqYAYCycU-c=', 'v': 0.0009798594599117554}\n",
      "WARNING:root:i entry not found in localtrust, skipping this entry: {'i': 'URIXulfhlrliXjFtTrG3qKCBv13qMXv2xgVVYX8s488=', 'v': 0.0023634575907113477}\n",
      "WARNING:root:i entry not found in localtrust, skipping this entry: {'i': 'Egkcqh42qycHAk2r0-Nc9nfznUpb1sfZ2l5XzQtwDJc=', 'v': 0.0031184059099589163}\n",
      "WARNING:root:i entry not found in localtrust, skipping this entry: {'i': 'PzH26DTruU2-ckDWg4H-OCNsvl8lA1bO87rGU15W_Zw=', 'v': 0.0023428153627193756}\n",
      "WARNING:root:i entry not found in localtrust, skipping this entry: {'i': 'MYg9JqcqK5z8Zpbio-s2D_LWcTaN1kD8Vo-CSa3q4Qo=', 'v': 0.0006080459078498521}\n",
      "INFO:root:eigentrust compute took 1.4806916250381619 secs \n"
     ]
    },
    {
     "data": {
      "text/plain": [
       "display_name\n",
       "wevm                    0.094427\n",
       "DefiLlama               0.062323\n",
       "Foundry                 0.060451\n",
       "Optimism                0.057276\n",
       "ethers.js               0.054644\n",
       "OpenZeppelin            0.052866\n",
       "Rainbow                 0.033014\n",
       "Hardhat                 0.027930\n",
       "Snapshot                0.026889\n",
       "Ethereum Cat Herders    0.025307\n",
       "EthereumJS              0.022168\n",
       "Sushi                   0.020749\n",
       "Solidity                0.019042\n",
       "Buidl Guidl             0.017782\n",
       "geth                    0.016815\n",
       "Name: v_aggregated, dtype: float64"
      ]
     },
     "execution_count": 7,
     "metadata": {},
     "output_type": "execute_result"
    }
   ],
   "source": [
    "from devtooling_openrank import DevtoolingCalculator, SimulationConfig, load_config, load_data\n",
    "\n",
    "ds, sim_cfg = load_config('eval-algos/S7/weights/devtooling_openrank_testing.yaml')\n",
    "data = load_data(ds)\n",
    "\n",
    "sim_cfg.time_decay.update(\n",
    "    {\n",
    "        'event_to_devtooling_repo': 0.5,\n",
    "        'commit_to_onchain_repo': 0.5\n",
    "    }\n",
    ")\n",
    "calculator = DevtoolingCalculator(sim_cfg)\n",
    "analysis = calculator.run_analysis(*data)\n",
    "\n",
    "scores = (\n",
    "    analysis['devtooling_project_results']\n",
    "    .set_index('display_name')\n",
    "    ['v_aggregated']\n",
    "    .sort_values(ascending=False)\n",
    ")\n",
    "scores = scores[scores>0]\n",
    "scores.head(15)"
   ]
  },
  {
   "cell_type": "code",
   "execution_count": 8,
   "id": "e930c8f6",
   "metadata": {},
   "outputs": [
    {
     "data": {
      "text/plain": [
       "<Axes: >"
      ]
     },
     "execution_count": 8,
     "metadata": {},
     "output_type": "execute_result"
    },
    {
     "data": {
      "image/png": "[encoded data removed]",
      "text/plain": [
       "<Figure size 1000x300 with 1 Axes>"
      ]
     },
     "metadata": {},
     "output_type": "display_data"
    }
   ],
   "source": [
    "rewards = allocate_with_constraints(scores, alloc, print_results=False)\n",
    "rewards.sort_values(ascending=False).plot(kind='bar', xticks=[], xlabel='', color='red', width=1, figsize=(10,3))"
   ]
  }
 ],
 "metadata": {
  "kernelspec": {
   "display_name": "Python 3 (ipykernel)",
   "language": "python",
   "name": "python3"
  },
  "language_info": {
   "codemirror_mode": {
    "name": "ipython",
    "version": 3
   },
   "file_extension": ".py",
   "mimetype": "text/x-python",
   "name": "python",
   "nbconvert_exporter": "python",
   "pygments_lexer": "ipython3",
   "version": "3.11.5"
  }
 },
 "nbformat": 4,
 "nbformat_minor": 5
}
